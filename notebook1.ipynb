{
  "cells": [
    {
      "cell_type": "markdown",
      "id": "45718ddbdacc17ac",
      "metadata": {
        "id": "45718ddbdacc17ac"
      },
      "source": [
        "# **Reinforcement Learning: Tarea 1, Estudio comparativo de algoritmos en un problema de k-armed bandit**\n",
        "\n",
        "## **Autores:** Ana Gil Molina, José María García Ortiz y Levi Malest Villarreal\n",
        "\n",
        "<br>\n",
        "\n",
        "**Description:** Esta notebook plantea una introducción al problema del bandido de k brazos, y da acceso a los diferentes estudios que se realizan sobre este problema, a través de links a las notebooks donde se desarrollan (véase sección **[2]**).\n",
        "\n",
        "<br>\n",
        "\n",
        "*This software is licensed under the GNU General Public License v3.0 (GPL-3.0),\n",
        "with the additional restriction that it may not be used for commercial purposes.*\n",
        "\n",
        "*For more details about GPL-3.0: https://www.gnu.org/licenses/gpl-3.0.html*\n",
        "\n"
      ]
    },
    {
      "cell_type": "markdown",
      "id": "7c1697e197fa5a08",
      "metadata": {
        "id": "7c1697e197fa5a08"
      },
      "source": [
        "## **[1] - Introducción al problema del *bandido de k brazos***\n"
      ]
    },
    {
      "cell_type": "code",
      "source": [
        "#@title Copiar el repositorio ``JMGO-coding/k_brazos_GGM``.\n",
        "\n",
        "!git clone https://github.com/JMGO-coding/k_brazos_GGM.git\n",
        "!cd k_brazos_GGM/"
      ],
      "metadata": {
        "id": "q4_AzUhO4osU",
        "colab": {
          "base_uri": "https://localhost:8080/"
        },
        "outputId": "c8e89efc-1282-4524-aea1-b6375a912c04"
      },
      "id": "q4_AzUhO4osU",
      "execution_count": null,
      "outputs": [
        {
          "output_type": "stream",
          "name": "stdout",
          "text": [
            "Cloning into 'k_brazos_GGM'...\n",
            "remote: Enumerating objects: 314, done.\u001b[K\n",
            "remote: Counting objects: 100% (159/159), done.\u001b[K\n",
            "remote: Compressing objects: 100% (158/158), done.\u001b[K\n",
            "remote: Total 314 (delta 92), reused 1 (delta 1), pack-reused 155 (from 1)\u001b[K\n",
            "Receiving objects: 100% (314/314), 1013.05 KiB | 3.79 MiB/s, done.\n",
            "Resolving deltas: 100% (148/148), done.\n"
          ]
        }
      ]
    },
    {
      "cell_type": "code",
      "execution_count": null,
      "id": "4582eec6",
      "metadata": {
        "ExecuteTime": {
          "end_time": "2025-01-29T15:16:53.845102Z",
          "start_time": "2025-01-29T15:16:53.842529Z"
        },
        "colab": {
          "base_uri": "https://localhost:8080/"
        },
        "id": "4582eec6",
        "outputId": "4691ab14-37e8-4030-8a7b-50025e0ff218"
      },
      "outputs": [
        {
          "output_type": "stream",
          "name": "stdout",
          "text": [
            "['/content', '/env/python', '/usr/lib/python311.zip', '/usr/lib/python3.11', '/usr/lib/python3.11/lib-dynload', '', '/usr/local/lib/python3.11/dist-packages', '/usr/lib/python3/dist-packages', '/usr/local/lib/python3.11/dist-packages/IPython/extensions', '/usr/local/lib/python3.11/dist-packages/setuptools/_vendor', '/root/.ipython', '/content/k_brazos_GGM', '/content/k_brazos_GGM/src']\n"
          ]
        }
      ],
      "source": [
        "#@title Importamos todas las clases y funciones\n",
        "\n",
        "import sys\n",
        "\n",
        "# Añadir los directorio fuentes al path de Python\n",
        "sys.path.append('/content/k_brazos_GGM')\n",
        "sys.path.append('/content/k_brazos_GGM/src')\n",
        "\n",
        "\n",
        "\n",
        "# Verificar que se han añadido correctamente\n",
        "print(sys.path)\n",
        "\n",
        "import numpy as np\n",
        "import seaborn as sns\n",
        "import matplotlib.pyplot as plt\n",
        "from typing import List\n",
        "\n",
        "#from src.algorithms import Algorithm, EpsilonGreedy\n",
        "#from src.arms import ArmNormal, Bandit\n",
        "#from src.plotting import plot_average_rewards, plot_optimal_selections, plot_arm_statistics, plot_regret\n",
        "\n",
        "\n",
        "from algorithms import Algorithm, EpsilonGreedy\n",
        "from arms import ArmNormal, Bandit\n",
        "from plotting import plot_average_rewards, plot_optimal_selections, plot_arm_statistics, plot_regret"
      ]
    },
    {
      "cell_type": "markdown",
      "id": "4e67de1a19a3698f",
      "metadata": {
        "id": "4e67de1a19a3698f"
      },
      "source": [
        "## **[2] - Enlaces a los experimentos realizados sobre este problema**\n",
        "\n",
        "- [Estudio de la familia de algoritmos $\\varepsilon$-greedy](https://colab.research.google.com/github/JMGO-coding/k_brazos_GGM/blob/main/notebook2.ipynb)\n",
        "\n",
        "- [Estudio de la familia de algoritmos UCB](https://colab.research.google.com/github/JMGO-coding/k_brazos_GGM/blob/main/notebook3.ipynb)\n",
        "\n",
        "- [Estudio de la familia de algoritmos de ascenso de gradiente](https://colab.research.google.com/github/JMGO-coding/k_brazos_GGM/blob/main/notebook4.ipynb)\n",
        "\n",
        "- [Estudio comparativo de UCB1 VS $\\varepsilon$-greedy](https://colab.research.google.com/github/JMGO-coding/k_brazos_GGM/blob/main/notebook5.ipynb)\n",
        "\n",
        "- [Estudio comparativo de UCB2 VS $\\varepsilon$-greedy](https://colab.research.google.com/github/JMGO-coding/k_brazos_GGM/blob/main/notebook6.ipynb)\n",
        "\n",
        "- [Estudio comparativo de Softmax VS $\\varepsilon$-greedy](https://colab.research.google.com/github/JMGO-coding/k_brazos_GGM/blob/main/notebook7.ipynb)\n",
        "\n",
        "- [Estudio comparativo de Gradiente de preferencias VS $\\varepsilon$-greedy](https://colab.research.google.com/github/JMGO-coding/k_brazos_GGM/blob/main/notebook8.ipynb)\n",
        "\n",
        "- [Estudio comparativo de UCB1 VS Softmax](https://colab.research.google.com/github/JMGO-coding/k_brazos_GGM/blob/main/notebook9.ipynb)\n",
        "\n",
        "- [Estudio comparativo de UCB1 VS Gradiente de preferencias](https://colab.research.google.com/github/JMGO-coding/k_brazos_GGM/blob/main/notebook10.ipynb)\n",
        "\n",
        "- [Estudio comparativo de UCB2 VS Softmax](https://colab.research.google.com/github/JMGO-coding/k_brazos_GGM/blob/main/notebook11.ipynb)\n",
        "\n",
        "- [Estudio comparativo de UCB2 VS Gradiente de preferencias](https://colab.research.google.com/github/JMGO-coding/k_brazos_GGM/blob/main/notebook12.ipynb)"
      ]
    }
  ],
  "metadata": {
    "colab": {
      "provenance": [],
      "toc_visible": true
    },
    "kernelspec": {
      "display_name": "Python 3 (ipykernel)",
      "language": "python",
      "name": "python3"
    }
  },
  "nbformat": 4,
  "nbformat_minor": 5
}