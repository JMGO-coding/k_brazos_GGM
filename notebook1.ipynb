{
  "cells": [
    {
      "cell_type": "markdown",
      "id": "45718ddbdacc17ac",
      "metadata": {
        "id": "45718ddbdacc17ac"
      },
      "source": [
        "# **Reinforcement Learning: Tarea 1, Estudio comparativo de algoritmos en un problema de k-armed bandit**\n",
        "\n",
        "## **Autores:** Ana Gil Molina, José María García Ortiz y Levi Malest Villarreal\n",
        "\n",
        "<br>\n",
        "\n",
        "**Description:** Esta notebook plantea una introducción al problema del bandido de k brazos, y da acceso a los diferentes estudios que se realizan sobre este problema, a través de links a las notebooks donde se desarrollan (véase sección **[2]**). El repositorio que contiene los ficheros necesarios para desarrollar este trabajo está accesible de forma pública en GitHub mediante el siguiente enlace: [consultar repositorio](https://github.com/JMGO-coding/k_brazos_GGM).\n",
        "\n",
        "<br>\n",
        "\n",
        "*This software is licensed under the GNU General Public License v3.0 (GPL-3.0),\n",
        "with the additional restriction that it may not be used for commercial purposes.*\n",
        "\n",
        "*For more details about GPL-3.0: https://www.gnu.org/licenses/gpl-3.0.html*\n",
        "\n"
      ]
    },
    {
      "cell_type": "markdown",
      "id": "7c1697e197fa5a08",
      "metadata": {
        "id": "7c1697e197fa5a08"
      },
      "source": [
        "## **[1] - Introducción al problema del *bandido de k brazos***\n",
        "<br>\n",
        "<div align=\"center\">\n",
        "\n",
        "![k-armed bandit.png](data:image/png;base64,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)\n",
        "\n",
        "</div>\n",
        "<br>\n",
        "\n",
        "El problema del ***bandido de k brazos*** es un marco fundamental en el aprendizaje por refuerzo y la toma de decisiones secuenciales bajo incertidumbre. Inspirado en el dilema de un jugador en un casino que enfrenta múltiples máquinas tragamonedas (cada una con una distribución desconocida de recompensas), este problema captura la tensión entre la exploración y la explotación: ¿debería el jugador seguir eligiendo la máquina que ha dado mejores resultados hasta ahora o probar nuevas máquinas en busca de una recompensa aún mayor?\n",
        "\n",
        "Matemáticamente, el problema se modela como un conjunto de k brazos, cada uno asociado a una distribución de recompensas desconocida. El objetivo del agente es maximizar su recompensa acumulada a lo largo de un horizonte temporal, seleccionando iterativamente un brazo y recibiendo una recompensa en función de la distribución subyacente del mismo. En este contexto, se definen métricas clave como el **porcentaje de elecciones del brazo óptimo**, la **recompensa promedio obtenida por cada brazo** y el ***regret* acumulado**, que mide la diferencia entre la recompensa óptima posible y la recompensa efectivamente obtenida por el agente.\n",
        "\n",
        "Esta problemática es de gran interés teórico y práctico, ya que se relaciona directamente con situaciones del mundo real donde se deben tomar decisiones bajo incertidumbre, tales como la selección de estrategias de inversión, la asignación de recursos en publicidad o la optimización de procesos en ingeniería. La complejidad del problema surge de la necesidad de balancear la explotación de las opciones ya conocidas y la exploración de alternativas potencialmente más rentables, para minimizar el regret acumulado.\n",
        "\n",
        "\n",
        "Para abordar este problema, se han desarrollado diversas estrategias que buscan equilibrar exploración y explotación de manera eficiente. Entre ellas, hemos seleccionado 3 familias de algoritmos para un estudio comparativo entre los distintos *approach* que ofrecen:\n",
        "\n",
        "<br>\n",
        "\n",
        "- **ε-greedy**: Alterna entre exploración aleatoria y explotación de la mejor opción conocida con una probabilidad ε.\n",
        "\n",
        "- **Upper Confidence Bound (UCB)**: Utiliza un criterio de optimismo en la incertidumbre para favorecer brazos con mayor potencial de mejora.\n",
        "\n",
        "- **Ascenso de Gradiente**: Ajusta probabilidades de selección mediante una estrategia basada en gradientes para mejorar progresivamente las elecciones del agente.\n",
        "\n",
        "<br>\n",
        "\n",
        "El estudio compara cuantitativamente el rendimiento de estos algoritmos en la resolución del problema, a través de las métricas clave mencionadas anteriormente.\n"
      ]
    },
    {
      "cell_type": "markdown",
      "id": "4e67de1a19a3698f",
      "metadata": {
        "id": "4e67de1a19a3698f"
      },
      "source": [
        "## **[2] - Enlaces a los experimentos realizados sobre este problema**\n",
        "\n",
        "- [Estudio de la familia de algoritmos $\\varepsilon$-greedy](https://colab.research.google.com/github/JMGO-coding/k_brazos_GGM/blob/main/notebook2.ipynb)\n",
        "\n",
        "- [Estudio de la familia de algoritmos UCB](https://colab.research.google.com/github/JMGO-coding/k_brazos_GGM/blob/main/notebook3.ipynb)\n",
        "\n",
        "- [Estudio de la familia de algoritmos de ascenso de gradiente](https://colab.research.google.com/github/JMGO-coding/k_brazos_GGM/blob/main/notebook4.ipynb)\n",
        "\n",
        "- [Estudio comparativo de UCB1 VS $\\varepsilon$-greedy](https://colab.research.google.com/github/JMGO-coding/k_brazos_GGM/blob/main/notebook5.ipynb)\n",
        "\n",
        "- [Estudio comparativo de UCB2 VS $\\varepsilon$-greedy](https://colab.research.google.com/github/JMGO-coding/k_brazos_GGM/blob/main/notebook6.ipynb)\n",
        "\n",
        "- [Estudio comparativo de Softmax VS $\\varepsilon$-greedy](https://colab.research.google.com/github/JMGO-coding/k_brazos_GGM/blob/main/notebook7.ipynb)\n",
        "\n",
        "- [Estudio comparativo de Gradiente de preferencias VS $\\varepsilon$-greedy](https://colab.research.google.com/github/JMGO-coding/k_brazos_GGM/blob/main/notebook8.ipynb)\n",
        "\n",
        "- [Estudio comparativo de UCB1 VS Softmax](https://colab.research.google.com/github/JMGO-coding/k_brazos_GGM/blob/main/notebook9.ipynb)\n",
        "\n",
        "- [Estudio comparativo de UCB1 VS Gradiente de preferencias](https://colab.research.google.com/github/JMGO-coding/k_brazos_GGM/blob/main/notebook10.ipynb)\n",
        "\n",
        "- [Estudio comparativo de UCB2 VS Softmax](https://colab.research.google.com/github/JMGO-coding/k_brazos_GGM/blob/main/notebook11.ipynb)\n",
        "\n",
        "- [Estudio comparativo de UCB2 VS Gradiente de preferencias](https://colab.research.google.com/github/JMGO-coding/k_brazos_GGM/blob/main/notebook12.ipynb)"
      ]
    }
  ],
  "metadata": {
    "colab": {
      "provenance": [],
      "toc_visible": true
    },
    "kernelspec": {
      "display_name": "Python 3 (ipykernel)",
      "language": "python",
      "name": "python3"
    }
  },
  "nbformat": 4,
  "nbformat_minor": 5
}